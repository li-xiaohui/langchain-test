{
 "cells": [
  {
   "cell_type": "code",
   "execution_count": 1,
   "metadata": {},
   "outputs": [],
   "source": [
    "from langchain.llms import OpenAI\n",
    "from langchain.tools.python.tool import PythonAstREPLTool\n",
    "from langchain.schema import AgentAction, AgentFinish\n",
    "from langchain.schema.messages import BaseMessage, SystemMessage, AIMessage\n",
    "from langchain.agents.openai_functions_agent.base import OpenAIFunctionsAgent, _format_intermediate_steps, _FunctionsAgentAction\n",
    "from langchain.callbacks.manager import Callbacks\n",
    "from langchain.agents.agent import AgentExecutor\n",
    "\n",
    "from typing import Union, TypeVar, List, Tuple, Any\n",
    "import json\n",
    "from json import JSONDecodeError\n",
    "\n",
    "class CustomPythonAstREPLTool(PythonAstREPLTool):\n",
    "    name = \"python\"\n",
    "    description = (\n",
    "        \"A Python shell. Use this to execute python commands. \"\n",
    "        \"The input must be an object as follows: \"\n",
    "        \"{'__arg1': 'a valid python command.'} \"\n",
    "        \"When using this tool, sometimes output is abbreviated - \"\n",
    "        \"Make sure it does not look abbreviated before using it in your answer. \"\n",
    "        \"Don't add comments to your python code.\"\n",
    "    )\n",
    "\n",
    "def _parse_ai_message(message: BaseMessage) -> Union[AgentAction, AgentFinish]:\n",
    "    \"\"\"Parse an AI message.\"\"\"\n",
    "    if not isinstance(message, AIMessage):\n",
    "        raise TypeError(f\"Expected an AI message got {type(message)}\")\n",
    "\n",
    "    function_call = message.additional_kwargs.get(\"function_call\", {})\n",
    "\n",
    "    if function_call:\n",
    "        function_call = message.additional_kwargs[\"function_call\"]\n",
    "        function_name = function_call[\"name\"]\n",
    "        try:\n",
    "            _tool_input = json.loads(function_call[\"arguments\"])\n",
    "        except JSONDecodeError:\n",
    "            print(\n",
    "                f\"Could not parse tool input: {function_call} because \"\n",
    "                f\"the `arguments` is not valid JSON.\"\n",
    "            )\n",
    "            _tool_input = function_call[\"arguments\"]\n",
    "\n",
    "        # HACK HACK HACK:\n",
    "        # The code that encodes tool input into Open AI uses a special variable\n",
    "        # name called `__arg1` to handle old style tools that do not expose a\n",
    "        # schema and expect a single string argument as an input.\n",
    "        # We unpack the argument here if it exists.\n",
    "        # Open AI does not support passing in a JSON array as an argument.\n",
    "        if \"__arg1\" in _tool_input:\n",
    "            tool_input = _tool_input[\"__arg1\"]\n",
    "        else:\n",
    "            tool_input = _tool_input\n",
    "\n",
    "        content_msg = \"responded: {content}\\n\" if message.content else \"\\n\"\n",
    "\n",
    "        return _FunctionsAgentAction(\n",
    "            tool=function_name,\n",
    "            tool_input=tool_input,\n",
    "            log=f\"\\nInvoking: `{function_name}` with `{tool_input}`\\n{content_msg}\\n\",\n",
    "            message_log=[message],\n",
    "        )\n",
    "\n",
    "    return AgentFinish(return_values={\"output\": message.content}, log=message.content)\n",
    "\n",
    "class CustomOpenAIFunctionsAgent(OpenAIFunctionsAgent):\n",
    "    def plan(\n",
    "        self,\n",
    "        intermediate_steps: List[Tuple[AgentAction, str]],\n",
    "        callbacks: Callbacks = None,\n",
    "        **kwargs: Any,\n",
    "    ) -> Union[AgentAction, AgentFinish]:\n",
    "        \"\"\"Given input, decided what to do.\n",
    "        Args:\n",
    "            intermediate_steps: Steps the LLM has taken to date, along with observations\n",
    "            **kwargs: User inputs.\n",
    "        Returns:\n",
    "            Action specifying what tool to use.\n",
    "        \"\"\"\n",
    "        user_input = kwargs[\"input\"]\n",
    "        agent_scratchpad = _format_intermediate_steps(intermediate_steps)\n",
    "        prompt = self.prompt.format_prompt(\n",
    "            input=user_input, agent_scratchpad=agent_scratchpad\n",
    "        )\n",
    "        messages = prompt.to_messages()\n",
    "        predicted_message = self.llm.predict_messages(\n",
    "            messages, functions=self.functions, callbacks=callbacks\n",
    "        )\n",
    "        agent_decision = _parse_ai_message(predicted_message)\n",
    "        return agent_decision\n",
    "    "
   ]
  },
  {
   "cell_type": "code",
   "execution_count": 2,
   "metadata": {},
   "outputs": [
    {
     "data": {
      "text/plain": [
       "(50, 50)"
      ]
     },
     "execution_count": 2,
     "metadata": {},
     "output_type": "execute_result"
    }
   ],
   "source": [
    "import pandas as pd\n",
    "\n",
    "df_exposure = pd.read_csv(\"fake port - Exposure.csv\")\n",
    "df_perf = pd.read_csv(\"fake port - Perf.csv\")\n",
    "len(df_exposure) , len(df_perf)"
   ]
  },
  {
   "cell_type": "code",
   "execution_count": 4,
   "metadata": {},
   "outputs": [],
   "source": [
    "from langchain.chat_models import ChatOpenAI\n",
    "import openai\n",
    "\n",
    "from langchain.agents.agent import AgentExecutor\n",
    "\n",
    "import os\n",
    "from dotenv import load_dotenv, find_dotenv\n",
    "_ = load_dotenv(find_dotenv()) # read local .env file\n",
    "\n",
    "# openai.api_key  = os.environ['OPENAI_API_KEY']\n",
    "openai.api_key= os.environ['OPENAI_API_KEY']\n",
    "\n",
    "llm = ChatOpenAI(temperature=0, model=\"gpt-3.5-turbo-0613\")"
   ]
  },
  {
   "cell_type": "code",
   "execution_count": 5,
   "metadata": {},
   "outputs": [],
   "source": [
    "prefix = 'You are a portfolio engineer who analyze stock portfolios. You are given 2 portfolio dataframes, df_exposure and df_perf to analyze.'\n",
    "# prefix=\"\"\n",
    "\n",
    "dataset={\"df_exposure\": df_exposure,\n",
    "         \"df_perf\": df_perf\n",
    "         }\n",
    "tools = [CustomPythonAstREPLTool(locals=dataset)]\n",
    "tool_names = [tool.name for tool in tools]\n",
    "prompt = CustomOpenAIFunctionsAgent.create_prompt(system_message=SystemMessage(content=prefix))\n",
    "agent = AgentExecutor.from_agent_and_tools(\n",
    "    agent=CustomOpenAIFunctionsAgent(llm=llm, prompt=prompt, tools=tools, verbose=True),\n",
    "    tools=tools, \n",
    "    verbose=True\n",
    ")"
   ]
  },
  {
   "cell_type": "markdown",
   "metadata": {},
   "source": [
    "### prompt1: compare 2 dataframes."
   ]
  },
  {
   "cell_type": "code",
   "execution_count": 6,
   "metadata": {},
   "outputs": [
    {
     "name": "stdout",
     "output_type": "stream",
     "text": [
      "\n",
      "\n",
      "\u001b[1m> Entering new  chain...\u001b[0m\n",
      "\u001b[32;1m\u001b[1;3m\n",
      "Invoking: `python` with `df_exposure.shape[0]`\n",
      "\n",
      "\n",
      "\u001b[0m\u001b[36;1m\u001b[1;3m50\u001b[0m\u001b[32;1m\u001b[1;3m\n",
      "Invoking: `python` with `df_perf.shape[0]`\n",
      "\n",
      "\n",
      "\u001b[0m\u001b[36;1m\u001b[1;3m50\u001b[0m\u001b[32;1m\u001b[1;3m{\n",
      "  \"df_exposure\": 50,\n",
      "  \"df_perf\": 50\n",
      "}\u001b[0m\n",
      "\n",
      "\u001b[1m> Finished chain.\u001b[0m\n"
     ]
    },
    {
     "data": {
      "text/plain": [
       "'{\\n  \"df_exposure\": 50,\\n  \"df_perf\": 50\\n}'"
      ]
     },
     "execution_count": 6,
     "metadata": {},
     "output_type": "execute_result"
    }
   ],
   "source": [
    "res=agent.run(\"\"\"how many rows does each df have? Output the result in JSON format\n",
    "              eg\n",
    "              {\n",
    "              \"df_exposure\": [row count],\n",
    "              \"df_perf\": [row count]    \n",
    "              }\n",
    "              \"\"\")\n",
    "res"
   ]
  },
  {
   "cell_type": "code",
   "execution_count": 7,
   "metadata": {},
   "outputs": [
    {
     "name": "stdout",
     "output_type": "stream",
     "text": [
      "\n",
      "\n",
      "\u001b[1m> Entering new  chain...\u001b[0m\n"
     ]
    },
    {
     "name": "stderr",
     "output_type": "stream",
     "text": [
      "Retrying langchain.chat_models.openai.ChatOpenAI.completion_with_retry.<locals>._completion_with_retry in 1.0 seconds as it raised RateLimitError: Rate limit reached for default-gpt-3.5-turbo in organization org-b9LeZA4q56k2CbxEtZPS9Sdj on requests per min. Limit: 3 / min. Please try again in 20s. Contact us through our help center at help.openai.com if you continue to have issues. Please add a payment method to your account to increase your rate limit. Visit https://platform.openai.com/account/billing to add a payment method..\n",
      "Retrying langchain.chat_models.openai.ChatOpenAI.completion_with_retry.<locals>._completion_with_retry in 2.0 seconds as it raised RateLimitError: Rate limit reached for default-gpt-3.5-turbo in organization org-b9LeZA4q56k2CbxEtZPS9Sdj on requests per min. Limit: 3 / min. Please try again in 20s. Contact us through our help center at help.openai.com if you continue to have issues. Please add a payment method to your account to increase your rate limit. Visit https://platform.openai.com/account/billing to add a payment method..\n",
      "Retrying langchain.chat_models.openai.ChatOpenAI.completion_with_retry.<locals>._completion_with_retry in 4.0 seconds as it raised RateLimitError: Rate limit reached for default-gpt-3.5-turbo in organization org-b9LeZA4q56k2CbxEtZPS9Sdj on requests per min. Limit: 3 / min. Please try again in 20s. Contact us through our help center at help.openai.com if you continue to have issues. Please add a payment method to your account to increase your rate limit. Visit https://platform.openai.com/account/billing to add a payment method..\n",
      "Retrying langchain.chat_models.openai.ChatOpenAI.completion_with_retry.<locals>._completion_with_retry in 8.0 seconds as it raised RateLimitError: Rate limit reached for default-gpt-3.5-turbo in organization org-b9LeZA4q56k2CbxEtZPS9Sdj on requests per min. Limit: 3 / min. Please try again in 20s. Contact us through our help center at help.openai.com if you continue to have issues. Please add a payment method to your account to increase your rate limit. Visit https://platform.openai.com/account/billing to add a payment method..\n"
     ]
    },
    {
     "name": "stdout",
     "output_type": "stream",
     "text": [
      "\u001b[32;1m\u001b[1;3m\n",
      "Invoking: `python` with `df_exposure.columns.tolist()`\n",
      "\n",
      "\n",
      "\u001b[0m\u001b[36;1m\u001b[1;3m['Date', 'PCode', 'Stock', 'Sector', 'Weight']\u001b[0m"
     ]
    },
    {
     "name": "stderr",
     "output_type": "stream",
     "text": [
      "Retrying langchain.chat_models.openai.ChatOpenAI.completion_with_retry.<locals>._completion_with_retry in 1.0 seconds as it raised RateLimitError: Rate limit reached for default-gpt-3.5-turbo in organization org-b9LeZA4q56k2CbxEtZPS9Sdj on requests per min. Limit: 3 / min. Please try again in 20s. Contact us through our help center at help.openai.com if you continue to have issues. Please add a payment method to your account to increase your rate limit. Visit https://platform.openai.com/account/billing to add a payment method..\n",
      "Retrying langchain.chat_models.openai.ChatOpenAI.completion_with_retry.<locals>._completion_with_retry in 2.0 seconds as it raised RateLimitError: Rate limit reached for default-gpt-3.5-turbo in organization org-b9LeZA4q56k2CbxEtZPS9Sdj on requests per min. Limit: 3 / min. Please try again in 20s. Contact us through our help center at help.openai.com if you continue to have issues. Please add a payment method to your account to increase your rate limit. Visit https://platform.openai.com/account/billing to add a payment method..\n",
      "Retrying langchain.chat_models.openai.ChatOpenAI.completion_with_retry.<locals>._completion_with_retry in 4.0 seconds as it raised RateLimitError: Rate limit reached for default-gpt-3.5-turbo in organization org-b9LeZA4q56k2CbxEtZPS9Sdj on requests per min. Limit: 3 / min. Please try again in 20s. Contact us through our help center at help.openai.com if you continue to have issues. Please add a payment method to your account to increase your rate limit. Visit https://platform.openai.com/account/billing to add a payment method..\n",
      "Retrying langchain.chat_models.openai.ChatOpenAI.completion_with_retry.<locals>._completion_with_retry in 8.0 seconds as it raised RateLimitError: Rate limit reached for default-gpt-3.5-turbo in organization org-b9LeZA4q56k2CbxEtZPS9Sdj on requests per min. Limit: 3 / min. Please try again in 20s. Contact us through our help center at help.openai.com if you continue to have issues. Please add a payment method to your account to increase your rate limit. Visit https://platform.openai.com/account/billing to add a payment method..\n",
      "Retrying langchain.chat_models.openai.ChatOpenAI.completion_with_retry.<locals>._completion_with_retry in 16.0 seconds as it raised RateLimitError: Rate limit reached for default-gpt-3.5-turbo in organization org-b9LeZA4q56k2CbxEtZPS9Sdj on requests per min. Limit: 3 / min. Please try again in 20s. Contact us through our help center at help.openai.com if you continue to have issues. Please add a payment method to your account to increase your rate limit. Visit https://platform.openai.com/account/billing to add a payment method..\n"
     ]
    },
    {
     "name": "stdout",
     "output_type": "stream",
     "text": [
      "\u001b[32;1m\u001b[1;3m\n",
      "Invoking: `python` with `df_perf.columns.tolist()`\n",
      "\n",
      "\n",
      "\u001b[0m\u001b[36;1m\u001b[1;3m['Date', 'PCode', 'Stock', 'Return']\u001b[0m"
     ]
    },
    {
     "name": "stderr",
     "output_type": "stream",
     "text": [
      "Retrying langchain.chat_models.openai.ChatOpenAI.completion_with_retry.<locals>._completion_with_retry in 1.0 seconds as it raised RateLimitError: Rate limit reached for default-gpt-3.5-turbo in organization org-b9LeZA4q56k2CbxEtZPS9Sdj on requests per min. Limit: 3 / min. Please try again in 20s. Contact us through our help center at help.openai.com if you continue to have issues. Please add a payment method to your account to increase your rate limit. Visit https://platform.openai.com/account/billing to add a payment method..\n",
      "Retrying langchain.chat_models.openai.ChatOpenAI.completion_with_retry.<locals>._completion_with_retry in 2.0 seconds as it raised RateLimitError: Rate limit reached for default-gpt-3.5-turbo in organization org-b9LeZA4q56k2CbxEtZPS9Sdj on requests per min. Limit: 3 / min. Please try again in 20s. Contact us through our help center at help.openai.com if you continue to have issues. Please add a payment method to your account to increase your rate limit. Visit https://platform.openai.com/account/billing to add a payment method..\n"
     ]
    },
    {
     "name": "stdout",
     "output_type": "stream",
     "text": [
      "\u001b[32;1m\u001b[1;3m{\n",
      "  \"df_exposure\": [\"Date\", \"PCode\", \"Stock\", \"Sector\", \"Weight\"],\n",
      "  \"df_perf\": [\"Date\", \"PCode\", \"Stock\", \"Return\"]\n",
      "}\n",
      "The columns in the `df_exposure` dataframe are: \"Date\", \"PCode\", \"Stock\", \"Sector\", \"Weight\".\n",
      "\n",
      "The columns in the `df_perf` dataframe are: \"Date\", \"PCode\", \"Stock\", \"Return\".\u001b[0m\n",
      "\n",
      "\u001b[1m> Finished chain.\u001b[0m\n"
     ]
    },
    {
     "data": {
      "text/plain": [
       "'{\\n  \"df_exposure\": [\"Date\", \"PCode\", \"Stock\", \"Sector\", \"Weight\"],\\n  \"df_perf\": [\"Date\", \"PCode\", \"Stock\", \"Return\"]\\n}\\nThe columns in the `df_exposure` dataframe are: \"Date\", \"PCode\", \"Stock\", \"Sector\", \"Weight\".\\n\\nThe columns in the `df_perf` dataframe are: \"Date\", \"PCode\", \"Stock\", \"Return\".'"
      ]
     },
     "execution_count": 7,
     "metadata": {},
     "output_type": "execute_result"
    }
   ],
   "source": [
    "res=agent.run(\"\"\"what columns does each df have? \n",
    "              Output the result in JSON format\n",
    "              eg\n",
    "              {\n",
    "              \"df_exposure\": [column list],\n",
    "              \"df_perf\": [column list]    \n",
    "              }\n",
    "              \"\"\")\n",
    "res"
   ]
  },
  {
   "cell_type": "markdown",
   "metadata": {},
   "source": [
    "### Prompt2: top holdings  that requires sorting the table"
   ]
  },
  {
   "cell_type": "code",
   "execution_count": null,
   "metadata": {},
   "outputs": [],
   "source": [
    "# res = agent.run(\"\"\" Do not create a new dataframe. \n",
    "#           Join df_exposure and df_perf by `Date`, `PCode`, `Stock`, and name the result df_merged.\n",
    "#           Please comment the top holdings with the highest weights in t in table format. \n",
    "#           \"\"\")\n",
    "\n",
    "# res"
   ]
  },
  {
   "cell_type": "code",
   "execution_count": 10,
   "metadata": {},
   "outputs": [
    {
     "name": "stdout",
     "output_type": "stream",
     "text": [
      "\n",
      "\n",
      "\u001b[1m> Entering new  chain...\u001b[0m\n",
      "\u001b[32;1m\u001b[1;3m\n",
      "Invoking: `python` with `df_merged = df_exposure.merge(df_perf, on=['Date', 'PCode', 'Stock'])`\n",
      "\n",
      "\n",
      "\u001b[0m\u001b[36;1m\u001b[1;3m\u001b[0m\u001b[32;1m\u001b[1;3m\u001b[0m\n",
      "\n",
      "\u001b[1m> Finished chain.\u001b[0m\n"
     ]
    },
    {
     "data": {
      "text/plain": [
       "''"
      ]
     },
     "execution_count": 10,
     "metadata": {},
     "output_type": "execute_result"
    }
   ],
   "source": [
    "\n",
    "# res = agent.run(\"\"\" Do not create a new dataframe. \n",
    "#           Join df_exposure and df_perf by `Date`, `PCode`, `Stock`, and name the result df_merged.\n",
    "#           Please comment the top holdings with the highest weights in t in table format. \n",
    "#           \"\"\")\n",
    "\n",
    "# res"
   ]
  },
  {
   "cell_type": "markdown",
   "metadata": {},
   "source": [
    "### Prompt3: using the df_exposure to find largest sector exposure"
   ]
  },
  {
   "cell_type": "code",
   "execution_count": 14,
   "metadata": {},
   "outputs": [
    {
     "name": "stdout",
     "output_type": "stream",
     "text": [
      "\n",
      "\n",
      "\u001b[1m> Entering new  chain...\u001b[0m\n"
     ]
    },
    {
     "name": "stderr",
     "output_type": "stream",
     "text": [
      "Retrying langchain.chat_models.openai.ChatOpenAI.completion_with_retry.<locals>._completion_with_retry in 1.0 seconds as it raised ServiceUnavailableError: The server is overloaded or not ready yet..\n"
     ]
    },
    {
     "name": "stdout",
     "output_type": "stream",
     "text": [
      "\u001b[32;1m\u001b[1;3m\n",
      "Invoking: `python` with `portfolio_df.groupby('Sector')['Weight'].sum().sort_values(ascending=False).reset_index().rename(columns={'Weight': 'Aggregated Weight'})`\n",
      "\n",
      "\n",
      "\u001b[0m\u001b[36;1m\u001b[1;3m                   Sector  Aggregated Weight\n",
      "0        CONSUMER STAPLES              22.44\n",
      "1                 FINANCE              18.61\n",
      "2             HEALTH CARE              10.62\n",
      "3  CONSUMER DISCRETIONARY               8.27\n",
      "4          COMMUNICATIONS               3.48\n",
      "5               MATERIALS               1.41\n",
      "6  INFORMATION TECHNOLOGY               0.99\u001b[0m\u001b[32;1m\u001b[1;3mHere is the aggregated weight by sector, sorted in descending order:\n",
      "\n",
      "|       Sector      | Aggregated Weight |\n",
      "|-------------------|-------------------|\n",
      "| CONSUMER STAPLES  |       22.44       |\n",
      "|      FINANCE      |       18.61       |\n",
      "|    HEALTH CARE    |       10.62       |\n",
      "| CONSUMER DISCRETIONARY |     8.27       |\n",
      "|   COMMUNICATIONS  |       3.48        |\n",
      "|     MATERIALS     |       1.41        |\n",
      "| INFORMATION TECHNOLOGY |   0.99        |\u001b[0m\n",
      "\n",
      "\u001b[1m> Finished chain.\u001b[0m\n"
     ]
    },
    {
     "data": {
      "text/plain": [
       "'Here is the aggregated weight by sector, sorted in descending order:\\n\\n|       Sector      | Aggregated Weight |\\n|-------------------|-------------------|\\n| CONSUMER STAPLES  |       22.44       |\\n|      FINANCE      |       18.61       |\\n|    HEALTH CARE    |       10.62       |\\n| CONSUMER DISCRETIONARY |     8.27       |\\n|   COMMUNICATIONS  |       3.48        |\\n|     MATERIALS     |       1.41        |\\n| INFORMATION TECHNOLOGY |   0.99        |'"
      ]
     },
     "execution_count": 14,
     "metadata": {},
     "output_type": "execute_result"
    }
   ],
   "source": [
    "agent.run(\"\"\" \n",
    "          Uisng the df, please aggregate Weight by Sector and sort aggregated weights. \n",
    "          Finally show the sector weights in table format. \n",
    "          \"\"\")"
   ]
  },
  {
   "cell_type": "markdown",
   "metadata": {},
   "source": [
    "### Prompt4: best and worst performing clusters that requires joining and sorting"
   ]
  },
  {
   "cell_type": "code",
   "execution_count": 12,
   "metadata": {},
   "outputs": [
    {
     "name": "stdout",
     "output_type": "stream",
     "text": [
      "\n",
      "\n",
      "\u001b[1m> Entering new  chain...\u001b[0m\n",
      "\u001b[32;1m\u001b[1;3m\n",
      "Invoking: `python` with `import pandas as pd\n",
      "\n",
      "# Join df_exposure and df_perf by `Date`, `PCode`, `Stock`, and name the result df_merged.\n",
      "df_merged = pd.merge(df_exposure, df_perf, on=['Date', 'PCode', 'Stock'])\n",
      "\n",
      "# Aggregate Return by Sector\n",
      "aggregated_returns = df_merged.groupby('Sector')['Return'].sum().reset_index()\n",
      "\n",
      "# Sort aggregated returns\n",
      "aggregated_returns = aggregated_returns.sort_values('Return', ascending=False)\n",
      "\n",
      "# Convert the aggregated returns to percent format\n",
      "aggregated_returns['Return'] = aggregated_returns['Return'] * 100\n",
      "\n",
      "# Show the aggregated returns in table format\n",
      "aggregated_returns`\n",
      "\n",
      "\n",
      "\u001b[0m\u001b[36;1m\u001b[1;3m                   Sector      Return\n",
      "2        CONSUMER STAPLES  315.372208\n",
      "4             HEALTH CARE  182.948921\n",
      "1  CONSUMER DISCRETIONARY   92.635406\n",
      "0          COMMUNICATIONS   53.773642\n",
      "6               MATERIALS   35.595362\n",
      "5  INFORMATION TECHNOLOGY   13.783619\n",
      "3                 FINANCE    8.124072\u001b[0m\u001b[32;1m\u001b[1;3mThe aggregated returns by sector, sorted in descending order, and converted to percent format are as follows:\n",
      "\n",
      "|       Sector      |   Return   |\n",
      "|-------------------|------------|\n",
      "| CONSUMER STAPLES  |  315.3722  |\n",
      "|    HEALTH CARE    |  182.9489  |\n",
      "| CONSUMER DISCRETIONARY |  92.6354  |\n",
      "|  COMMUNICATIONS   |  53.7736  |\n",
      "|     MATERIALS     |  35.5954  |\n",
      "| INFORMATION TECHNOLOGY |  13.7836  |\n",
      "|      FINANCE      |   8.1241  |\u001b[0m\n",
      "\n",
      "\u001b[1m> Finished chain.\u001b[0m\n"
     ]
    }
   ],
   "source": [
    "res = agent.run(\"\"\" \n",
    "            Join df_exposure and df_perf by `Date`, `PCode`, `Stock`, and name the result df_merged.\n",
    "             \n",
    "          Based off df_merged, please aggregate Return by Sector\n",
    "          Then sort aggregated returns.\n",
    "          Convert the aggregated returns to percent format.\n",
    "          Finally show the aggregated returns in table format. \n",
    "          \"\"\")"
   ]
  },
  {
   "cell_type": "code",
   "execution_count": 13,
   "metadata": {},
   "outputs": [
    {
     "data": {
      "text/plain": [
       "'The aggregated returns by sector, sorted in descending order, and converted to percent format are as follows:\\n\\n|       Sector      |   Return   |\\n|-------------------|------------|\\n| CONSUMER STAPLES  |  315.3722  |\\n|    HEALTH CARE    |  182.9489  |\\n| CONSUMER DISCRETIONARY |  92.6354  |\\n|  COMMUNICATIONS   |  53.7736  |\\n|     MATERIALS     |  35.5954  |\\n| INFORMATION TECHNOLOGY |  13.7836  |\\n|      FINANCE      |   8.1241  |'"
      ]
     },
     "execution_count": 13,
     "metadata": {},
     "output_type": "execute_result"
    }
   ],
   "source": [
    "res"
   ]
  },
  {
   "cell_type": "code",
   "execution_count": 6,
   "metadata": {},
   "outputs": [
    {
     "name": "stdout",
     "output_type": "stream",
     "text": [
      "\n",
      "\n",
      "\u001b[1m> Entering new  chain...\u001b[0m\n",
      "\u001b[32;1m\u001b[1;3m\n",
      "Invoking: `python` with `portfolio_df.groupby('Sector')['Return'].apply(lambda x: (x * portfolio_df.loc[x.index, 'Weight']).sum()).sort_values(ascending=False).map('{:.2%}'.format).reset_index().rename(columns={'Return': 'Aggregated Return'})`\n",
      "\n",
      "\n",
      "\u001b[0m\u001b[36;1m\u001b[1;3mNameError: name 'portfolio_df' is not defined\u001b[0m\u001b[32;1m\u001b[1;3mApologies, but I need the portfolio dataframe in order to perform the analysis. Could you please provide the portfolio dataframe?\u001b[0m\n",
      "\n",
      "\u001b[1m> Finished chain.\u001b[0m\n"
     ]
    },
    {
     "data": {
      "text/plain": [
       "'Apologies, but I need the portfolio dataframe in order to perform the analysis. Could you please provide the portfolio dataframe?'"
      ]
     },
     "execution_count": 6,
     "metadata": {},
     "output_type": "execute_result"
    }
   ],
   "source": [
    "agent.run(\"\"\" Do not create a new dataframe. \n",
    "          Only use portfolio_df, please aggregate Return by Sector, which is to sum up Stock weight times Stock return by Sector.\n",
    "          Then sort aggregated returns.\n",
    "          Convert the aggregated returns to percent format.\n",
    "          Finally show the aggregated returns in table format. \n",
    "          \"\"\")"
   ]
  }
 ],
 "metadata": {
  "kernelspec": {
   "display_name": "base",
   "language": "python",
   "name": "python3"
  },
  "language_info": {
   "codemirror_mode": {
    "name": "ipython",
    "version": 3
   },
   "file_extension": ".py",
   "mimetype": "text/x-python",
   "name": "python",
   "nbconvert_exporter": "python",
   "pygments_lexer": "ipython3",
   "version": "3.10.9"
  },
  "orig_nbformat": 4
 },
 "nbformat": 4,
 "nbformat_minor": 2
}
